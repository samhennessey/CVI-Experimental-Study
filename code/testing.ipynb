{
 "cells": [
  {
   "cell_type": "code",
   "execution_count": 30,
   "metadata": {},
   "outputs": [],
   "source": [
    "import CVIs\n",
    "import helper\n",
    "import methods "
   ]
  },
  {
   "cell_type": "code",
   "execution_count": 34,
   "metadata": {},
   "outputs": [
    {
     "name": "stdout",
     "output_type": "stream",
     "text": [
      "[<function CAL at 0x12bc0f040>, <function K_means at 0x12b0b4a60>, <function PCKM at 0x12b0dd790>, <function euclidean_distances at 0x12118aee0>, <function fcluster at 0x12b0dcc10>, <function linkage at 0x12b0d7af0>, <function single_linkage at 0x12bc0fca0>]\n",
      "('ML', 'CL')\n",
      "('data', 'K')\n",
      "('K', 'ML', 'CL')\n",
      "('X', 'Y', 'Y_norm_squared', 'squared', 'X_norm_squared', 'original_shape')\n",
      "('Z', 't', 'criterion', 'depth', 'R', 'monocrit', 'n', 'T')\n",
      "('y', 'method', 'metric', 'optimal_ordering', 'n', 'method_code', 'result')\n",
      "('data', 'dis_mat', 'X', 'Z', 'max_jump_ind', 'max_dis')\n",
      "['CAL', 'KMeans', 'K_means', 'PCKM', '__builtins__', '__cached__', '__doc__', '__file__', '__loader__', '__name__', '__package__', '__spec__', 'euclidean_distances', 'fcluster', 'linkage', 'np', 'single_linkage', 'ssd']\n"
     ]
    }
   ],
   "source": [
    "import inspect\n",
    "\n",
    "functs = [f for _, f in inspect.getmembers(methods, inspect.isfunction)]\n",
    "\n",
    "print(functs)\n",
    "\n",
    "for fn in functs:\n",
    "    vars = fn.__code__.co_varnames\n",
    "    print(vars)\n"
   ]
  },
  {
   "cell_type": "code",
   "execution_count": null,
   "metadata": {},
   "outputs": [],
   "source": []
  }
 ],
 "metadata": {
  "kernelspec": {
   "display_name": "Python 3.8.10 64-bit",
   "language": "python",
   "name": "python3"
  },
  "language_info": {
   "codemirror_mode": {
    "name": "ipython",
    "version": 3
   },
   "file_extension": ".py",
   "mimetype": "text/x-python",
   "name": "python",
   "nbconvert_exporter": "python",
   "pygments_lexer": "ipython3",
   "version": "3.8.10"
  },
  "orig_nbformat": 4,
  "vscode": {
   "interpreter": {
    "hash": "0adcc2737ebf6a4a119f135174df96668767fca1ef1112612db5ecadf2b6d608"
   }
  }
 },
 "nbformat": 4,
 "nbformat_minor": 2
}
